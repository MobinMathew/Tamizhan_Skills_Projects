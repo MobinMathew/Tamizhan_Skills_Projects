{
 "cells": [
  {
   "cell_type": "code",
   "execution_count": 1,
   "id": "6a9990ad",
   "metadata": {},
   "outputs": [
    {
     "name": "stdout",
     "output_type": "stream",
     "text": [
      "Enter the IP address or domain to scan:127.0.0.1\n",
      "Enter the starting port number:1\n",
      "Enter the ending port number:1024\n",
      "[OPEN] Port 135\n",
      "[OPEN] Port 445\n"
     ]
    }
   ],
   "source": [
    "import socket\n",
    "import threading\n",
    "\n",
    "target = input(\"Enter the IP address or domain to scan:\")\n",
    "start_port = int(input(\"Enter the starting port number:\"))\n",
    "ending_port = int(input(\"Enter the ending port number:\"))\n",
    "\n",
    "def scan_port(ip, port):\n",
    "    try:\n",
    "        # Create a socket object\n",
    "        sock = socket.socket(socket.AF_INET, socket.SOCK_STREAM)\n",
    "        sock.settimeout(1)# set 1 second timout\n",
    "        result = sock.connect_ex((ip, port)) # try to connecting to the port \n",
    "        if result == 0:\n",
    "            print(f\"[OPEN] Port {port}\")\n",
    "        sock.close()\n",
    "    except:\n",
    "        pass\n",
    "\n",
    "# create and start threads for each port\n",
    "threads = []\n",
    "\n",
    "for port in range(start_port, ending_port +1):\n",
    "    t = threading.Thread(target=scan_port, args=(target, port))\n",
    "    threads.append(t)\n",
    "    t.start()\n",
    "    \n",
    "# wait for all threads to finish\n",
    "for t in threads:\n",
    "    t.join()"
   ]
  },
  {
   "cell_type": "code",
   "execution_count": null,
   "id": "af0777fe",
   "metadata": {},
   "outputs": [],
   "source": []
  },
  {
   "cell_type": "code",
   "execution_count": null,
   "id": "b9674e52",
   "metadata": {},
   "outputs": [],
   "source": []
  },
  {
   "cell_type": "code",
   "execution_count": null,
   "id": "208951f2",
   "metadata": {},
   "outputs": [],
   "source": []
  }
 ],
 "metadata": {
  "kernelspec": {
   "display_name": "Python 3 (ipykernel)",
   "language": "python",
   "name": "python3"
  },
  "language_info": {
   "codemirror_mode": {
    "name": "ipython",
    "version": 3
   },
   "file_extension": ".py",
   "mimetype": "text/x-python",
   "name": "python",
   "nbconvert_exporter": "python",
   "pygments_lexer": "ipython3",
   "version": "3.11.5"
  }
 },
 "nbformat": 4,
 "nbformat_minor": 5
}
